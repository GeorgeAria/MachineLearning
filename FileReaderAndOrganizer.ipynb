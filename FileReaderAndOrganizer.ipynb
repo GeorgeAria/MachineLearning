{
 "cells": [
  {
   "cell_type": "code",
   "execution_count": 35,
   "metadata": {
    "collapsed": false
   },
   "outputs": [],
   "source": [
    "import numpy as np\n",
    "import pandas as pd\n",
    "import random\n",
    "from sklearn.neighbors import KNeighborsClassifier\n",
    "from sklearn.metrics import accuracy_score\n",
    "from sklearn.linear_model import LogisticRegression\n",
    "from sklearn.cluster import KMeans\n",
    "import matplotlib.pyplot as plt"
   ]
  },
  {
   "cell_type": "code",
   "execution_count": 10,
   "metadata": {
    "collapsed": false
   },
   "outputs": [],
   "source": [
    "seed = 1\n",
    "file = open(\"test.txt\", \"w\")\n",
    "# for a year of weather data\n",
    "for x in range(0, 365):\n",
    "    timpeve = random.randint(0, 1)\n",
    "    impeve = str(timpeve)\n",
    "    tdecibel = random.randint(60, 70)\n",
    "    decibel = str(tdecibel)\n",
    "    halfa = random.randint(0, 23)\n",
    "    halfb = random.randint(0, 59)\n",
    "    if halfa == 0:\n",
    "        if halfb < 10:\n",
    "            time = \"000\" + str(halfb)\n",
    "        else:\n",
    "            time = \"00\" + str(halfb)\n",
    "    else:\n",
    "        if halfa < 10:\n",
    "            if halfb < 10:\n",
    "                time = \"0\" + str(halfa) + \"0\" + str(halfb)\n",
    "            else:\n",
    "                time = \"0\" + str(halfa) + str(halfb)\n",
    "\n",
    "        elif halfb < 10:\n",
    "            if halfa < 10:\n",
    "                time = \"0\" + str(halfa) + \"0\" + str(halfb)\n",
    "            else:\n",
    "                time = str(halfa) + \"0\" + str(halfb)\n",
    "        else:\n",
    "            time = str(halfa) + str(halfb)\n",
    "    tfail = random.randint(0, 1)\n",
    "    fail = str(tfail)\n",
    "    tanomaly = random.randint(0, 1)\n",
    "    anomaly = str(tanomaly)\n",
    "    file.write(impeve + \" \" + decibel + \" \" + fail + \" \" + time + \" \" + anomaly + \"\\n\")\n",
    "    random.seed()\n",
    "file.close()"
   ]
  },
  {
   "cell_type": "code",
   "execution_count": 11,
   "metadata": {
    "collapsed": false
   },
   "outputs": [
    {
     "name": "stdout",
     "output_type": "stream",
     "text": [
      "       DATE  PRCP  SNOW  TMAX  TMIN\n",
      "0  20160101  0.00   0.0    65    44\n",
      "1  20160102  0.00   0.0    64    47\n",
      "2  20160103  0.00   0.0    62    45\n",
      "3  20160104  0.00   0.0    67    56\n",
      "4  20160105  1.42   0.0    59    52\n",
      "5  20160106  1.18   0.0    57    47\n"
     ]
    }
   ],
   "source": [
    "relevantWeatherData = pd.read_csv('888.csv');\n",
    "relevantWeatherData = relevantWeatherData.drop(['WT01', 'WT02','WT03','WT04','WT05','WT06','WT08','WT09', 'AWND', 'TAVG', 'STATION', 'STATION_NAME'], axis = 1)\n",
    "# now we have ['date','prcp', 'snow', 'tmax', and 'tmin' as our features]\n",
    "# but we want to specify LABC weather data, for this example\n",
    "# so we make a copy of the original dataframe\n",
    "# and splice it to only include the weather data from Los Angeles\n",
    "# these are rows 216 - 581 in our .csv file \n",
    "labcWeather = relevantWeatherData[:]\n",
    "\n",
    "labcWeather = labcWeather[214:580]\n",
    "\n",
    "# we reset the index of every data value so that it can merge with our pseudo-random dataset\n",
    "# 2016 was a leap year, so we have 366 entries\n",
    "\n",
    "labcWeather = labcWeather.reset_index(drop=True)\n",
    "\n",
    "labcWeather['SNOW'] = labcWeather['SNOW'].replace([-9999.0], 0.0)\n",
    "print(labcWeather[0:6])"
   ]
  },
  {
   "cell_type": "code",
   "execution_count": 12,
   "metadata": {
    "collapsed": false
   },
   "outputs": [],
   "source": [
    "equipmentData = pd.read_csv('test.txt', sep=\" \", header = None, names = ['ImpEvent', 'SigLvl', 'NearbyFail', 'Time', 'Anomaly'])"
   ]
  },
  {
   "cell_type": "code",
   "execution_count": 21,
   "metadata": {
    "collapsed": false
   },
   "outputs": [
    {
     "data": {
      "text/html": [
       "<div>\n",
       "<table border=\"1\" class=\"dataframe\">\n",
       "  <thead>\n",
       "    <tr style=\"text-align: right;\">\n",
       "      <th></th>\n",
       "      <th>DATE</th>\n",
       "      <th>PRCP</th>\n",
       "      <th>SNOW</th>\n",
       "      <th>TMAX</th>\n",
       "      <th>TMIN</th>\n",
       "      <th>ImpEvent</th>\n",
       "      <th>SigLvl</th>\n",
       "      <th>NearbyFail</th>\n",
       "      <th>Time</th>\n",
       "      <th>Anomaly</th>\n",
       "    </tr>\n",
       "  </thead>\n",
       "  <tbody>\n",
       "    <tr>\n",
       "      <th>0</th>\n",
       "      <td>20160101</td>\n",
       "      <td>0.0</td>\n",
       "      <td>0.0</td>\n",
       "      <td>65</td>\n",
       "      <td>44</td>\n",
       "      <td>1</td>\n",
       "      <td>61</td>\n",
       "      <td>0</td>\n",
       "      <td>2156</td>\n",
       "      <td>1</td>\n",
       "    </tr>\n",
       "    <tr>\n",
       "      <th>91</th>\n",
       "      <td>20160401</td>\n",
       "      <td>0.0</td>\n",
       "      <td>0.0</td>\n",
       "      <td>67</td>\n",
       "      <td>53</td>\n",
       "      <td>1</td>\n",
       "      <td>61</td>\n",
       "      <td>1</td>\n",
       "      <td>636</td>\n",
       "      <td>1</td>\n",
       "    </tr>\n",
       "    <tr>\n",
       "      <th>182</th>\n",
       "      <td>20160701</td>\n",
       "      <td>0.0</td>\n",
       "      <td>0.0</td>\n",
       "      <td>75</td>\n",
       "      <td>66</td>\n",
       "      <td>1</td>\n",
       "      <td>61</td>\n",
       "      <td>1</td>\n",
       "      <td>2049</td>\n",
       "      <td>0</td>\n",
       "    </tr>\n",
       "    <tr>\n",
       "      <th>273</th>\n",
       "      <td>20160930</td>\n",
       "      <td>0.0</td>\n",
       "      <td>0.0</td>\n",
       "      <td>80</td>\n",
       "      <td>67</td>\n",
       "      <td>0</td>\n",
       "      <td>68</td>\n",
       "      <td>0</td>\n",
       "      <td>2305</td>\n",
       "      <td>0</td>\n",
       "    </tr>\n",
       "    <tr>\n",
       "      <th>364</th>\n",
       "      <td>20161230</td>\n",
       "      <td>0.2</td>\n",
       "      <td>0.0</td>\n",
       "      <td>63</td>\n",
       "      <td>56</td>\n",
       "      <td>0</td>\n",
       "      <td>70</td>\n",
       "      <td>1</td>\n",
       "      <td>1844</td>\n",
       "      <td>1</td>\n",
       "    </tr>\n",
       "  </tbody>\n",
       "</table>\n",
       "</div>"
      ],
      "text/plain": [
       "         DATE  PRCP  SNOW  TMAX  TMIN  ImpEvent  SigLvl  NearbyFail  Time  \\\n",
       "0    20160101   0.0   0.0    65    44         1      61           0  2156   \n",
       "91   20160401   0.0   0.0    67    53         1      61           1   636   \n",
       "182  20160701   0.0   0.0    75    66         1      61           1  2049   \n",
       "273  20160930   0.0   0.0    80    67         0      68           0  2305   \n",
       "364  20161230   0.2   0.0    63    56         0      70           1  1844   \n",
       "\n",
       "     Anomaly  \n",
       "0          1  \n",
       "91         1  \n",
       "182        0  \n",
       "273        0  \n",
       "364        1  "
      ]
     },
     "execution_count": 21,
     "metadata": {},
     "output_type": "execute_result"
    }
   ],
   "source": [
    "# x now contains the weather data in conjunction with the equipment data we created\n",
    "x = pd.merge(left=labcWeather, right=equipmentData,left_index = True, right_index = True)\n",
    "x[::91]"
   ]
  },
  {
   "cell_type": "code",
   "execution_count": 25,
   "metadata": {
    "collapsed": false
   },
   "outputs": [],
   "source": [
    "# we have to normalize the values. \n",
    "# in this case, we normalize only the values we're going to use. Rain and Signal Power\n",
    "prcpMax = x['PRCP'].max()\n",
    "sigMax = x['SigLvl'].max()\n",
    "x['NormPRCP'] = x['PRCP'].apply(lambda y: y / prcpMax)\n",
    "x['NormSIG'] = x['SigLvl'].apply(lambda z: z / sigMax)"
   ]
  },
  {
   "cell_type": "code",
   "execution_count": 27,
   "metadata": {
    "collapsed": false
   },
   "outputs": [
    {
     "data": {
      "text/html": [
       "<div>\n",
       "<table border=\"1\" class=\"dataframe\">\n",
       "  <thead>\n",
       "    <tr style=\"text-align: right;\">\n",
       "      <th></th>\n",
       "      <th>DATE</th>\n",
       "      <th>PRCP</th>\n",
       "      <th>SNOW</th>\n",
       "      <th>TMAX</th>\n",
       "      <th>TMIN</th>\n",
       "      <th>ImpEvent</th>\n",
       "      <th>SigLvl</th>\n",
       "      <th>NearbyFail</th>\n",
       "      <th>Time</th>\n",
       "      <th>Anomaly</th>\n",
       "      <th>NormPRCP</th>\n",
       "      <th>NormSIG</th>\n",
       "    </tr>\n",
       "  </thead>\n",
       "  <tbody>\n",
       "    <tr>\n",
       "      <th>0</th>\n",
       "      <td>20160101</td>\n",
       "      <td>0.0</td>\n",
       "      <td>0.0</td>\n",
       "      <td>65</td>\n",
       "      <td>44</td>\n",
       "      <td>1</td>\n",
       "      <td>61</td>\n",
       "      <td>0</td>\n",
       "      <td>2156</td>\n",
       "      <td>1</td>\n",
       "      <td>0.0</td>\n",
       "      <td>0.871429</td>\n",
       "    </tr>\n",
       "    <tr>\n",
       "      <th>90</th>\n",
       "      <td>20160331</td>\n",
       "      <td>0.0</td>\n",
       "      <td>0.0</td>\n",
       "      <td>66</td>\n",
       "      <td>49</td>\n",
       "      <td>1</td>\n",
       "      <td>66</td>\n",
       "      <td>1</td>\n",
       "      <td>1412</td>\n",
       "      <td>1</td>\n",
       "      <td>0.0</td>\n",
       "      <td>0.942857</td>\n",
       "    </tr>\n",
       "    <tr>\n",
       "      <th>180</th>\n",
       "      <td>20160629</td>\n",
       "      <td>0.0</td>\n",
       "      <td>0.0</td>\n",
       "      <td>75</td>\n",
       "      <td>65</td>\n",
       "      <td>1</td>\n",
       "      <td>63</td>\n",
       "      <td>1</td>\n",
       "      <td>916</td>\n",
       "      <td>0</td>\n",
       "      <td>0.0</td>\n",
       "      <td>0.900000</td>\n",
       "    </tr>\n",
       "    <tr>\n",
       "      <th>270</th>\n",
       "      <td>20160927</td>\n",
       "      <td>0.0</td>\n",
       "      <td>0.0</td>\n",
       "      <td>96</td>\n",
       "      <td>72</td>\n",
       "      <td>0</td>\n",
       "      <td>60</td>\n",
       "      <td>1</td>\n",
       "      <td>2114</td>\n",
       "      <td>0</td>\n",
       "      <td>0.0</td>\n",
       "      <td>0.857143</td>\n",
       "    </tr>\n",
       "    <tr>\n",
       "      <th>360</th>\n",
       "      <td>20161226</td>\n",
       "      <td>0.0</td>\n",
       "      <td>0.0</td>\n",
       "      <td>63</td>\n",
       "      <td>46</td>\n",
       "      <td>0</td>\n",
       "      <td>61</td>\n",
       "      <td>0</td>\n",
       "      <td>2209</td>\n",
       "      <td>0</td>\n",
       "      <td>0.0</td>\n",
       "      <td>0.871429</td>\n",
       "    </tr>\n",
       "  </tbody>\n",
       "</table>\n",
       "</div>"
      ],
      "text/plain": [
       "         DATE  PRCP  SNOW  TMAX  TMIN  ImpEvent  SigLvl  NearbyFail  Time  \\\n",
       "0    20160101   0.0   0.0    65    44         1      61           0  2156   \n",
       "90   20160331   0.0   0.0    66    49         1      66           1  1412   \n",
       "180  20160629   0.0   0.0    75    65         1      63           1   916   \n",
       "270  20160927   0.0   0.0    96    72         0      60           1  2114   \n",
       "360  20161226   0.0   0.0    63    46         0      61           0  2209   \n",
       "\n",
       "     Anomaly  NormPRCP   NormSIG  \n",
       "0          1       0.0  0.871429  \n",
       "90         1       0.0  0.942857  \n",
       "180        0       0.0  0.900000  \n",
       "270        0       0.0  0.857143  \n",
       "360        0       0.0  0.871429  "
      ]
     },
     "execution_count": 27,
     "metadata": {},
     "output_type": "execute_result"
    }
   ],
   "source": [
    "x[::90]"
   ]
  },
  {
   "cell_type": "code",
   "execution_count": 48,
   "metadata": {
    "collapsed": false
   },
   "outputs": [
    {
     "data": {
      "text/plain": [
       "<function matplotlib.pyplot.show>"
      ]
     },
     "execution_count": 48,
     "metadata": {},
     "output_type": "execute_result"
    },
    {
     "data": {
      "image/png": "[encoded data removed]",
      "text/plain": [
       "<matplotlib.figure.Figure at 0x2270f01c4a8>"
      ]
     },
     "metadata": {},
     "output_type": "display_data"
    }
   ],
   "source": [
    "%matplotlib inline\n",
    "kMeans = KMeans(n_clusters=3)\n",
    "X = x[['NormPRCP', 'NormSIG']]\n",
    "kMeans.fit(X)\n",
    "\n",
    "# Assigned Labels after clustering: \n",
    "labels = kMeans.labels_\n",
    "\n",
    "# Centers of the clusters:\n",
    "centers = kMeans.cluster_centers_\n",
    "\n",
    "plt.figure\n",
    "\n",
    "for l, c in zip([0,1,2], ['red', 'blue', 'green']):\n",
    "    \n",
    "    current_members = (labels == l)\n",
    "    current_center = centers[l]\n",
    "    \n",
    "    plt.scatter(X.iloc[current_members,0], X.iloc[current_members,1], color = c, marker='x')\n",
    "    \n",
    "    plt.plot(current_center[0], current_center[1], 'o', markerfacecolor = c,\n",
    "            markeredgecolor = 'k', markersize=7)\n",
    "    \n",
    "plt.xlim([-0.3,1.3])\n",
    "\n",
    "    \n",
    "plt.xlabel('PRCP')\n",
    "plt.ylabel('SigLvl')\n",
    "plt.title('Kmeans Clustering for Signal Power and Precipitation for LABC')\n",
    "\n",
    "plt.show"
   ]
  },
  {
   "cell_type": "code",
   "execution_count": 58,
   "metadata": {
    "collapsed": false
   },
   "outputs": [
    {
     "name": "stdout",
     "output_type": "stream",
     "text": [
      "PRCP      0.134164\n",
      "SNOW      0.000000\n",
      "TMAX      7.482619\n",
      "TMIN      6.319076\n",
      "SigLvl    3.145637\n",
      "dtype: float64\n",
      "\n",
      "PRCP       0.027945\n",
      "SNOW       0.000000\n",
      "TMAX      71.953425\n",
      "TMIN      57.841096\n",
      "SigLvl    65.057534\n",
      "dtype: float64\n"
     ]
    }
   ],
   "source": [
    "# std and mean for NORMALIZED values\n",
    "# list which features to get std and mean\n",
    "# for example, it wouldnt make sense to get std and mean of date and time\n",
    "stdMeanFeats = ['PRCP','SNOW', 'TMAX','TMIN','SigLvl']\n",
    "print(x[stdMeanFeats].std())\n",
    "print()\n",
    "print(x[stdMeanFeats].mean())\n"
   ]
  },
  {
   "cell_type": "code",
   "execution_count": null,
   "metadata": {
    "collapsed": true
   },
   "outputs": [],
   "source": []
  }
 ],
 "metadata": {
  "anaconda-cloud": {},
  "kernelspec": {
   "display_name": "Python [Root]",
   "language": "python",
   "name": "Python [Root]"
  },
  "language_info": {
   "codemirror_mode": {
    "name": "ipython",
    "version": 3
   },
   "file_extension": ".py",
   "mimetype": "text/x-python",
   "name": "python",
   "nbconvert_exporter": "python",
   "pygments_lexer": "ipython3",
   "version": "3.5.2"
  }
 },
 "nbformat": 4,
 "nbformat_minor": 0
}
