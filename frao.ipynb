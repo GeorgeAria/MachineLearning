{
 "cells": [
  {
   "cell_type": "code",
   "execution_count": 101,
   "metadata": {
    "collapsed": false
   },
   "outputs": [],
   "source": [
    "import numpy as np\n",
    "import pandas as pd\n",
    "import random\n",
    "import math\n",
    "from sklearn.neighbors import KNeighborsClassifier\n",
    "from sklearn.metrics import accuracy_score\n",
    "from sklearn.linear_model import LogisticRegression\n",
    "from sklearn.cluster import KMeans\n",
    "import matplotlib.pyplot as plt"
   ]
  },
  {
   "cell_type": "code",
   "execution_count": 102,
   "metadata": {
    "collapsed": false
   },
   "outputs": [],
   "source": [
    "seed = 1\n",
    "file = open(\"test.txt\", \"w\")\n",
    "# for a year of weather data\n",
    "for x in range(0, 365):\n",
    "    timpeve = random.randint(0, 1)\n",
    "    impeve = str(timpeve)\n",
    "    tdecibel = random.randint(60, 70)\n",
    "    decibel = str(tdecibel)\n",
    "    halfa = random.randint(0, 23)\n",
    "    halfb = random.randint(0, 59)\n",
    "    if halfa == 0:\n",
    "        if halfb < 10:\n",
    "            time = \"000\" + str(halfb)\n",
    "        else:\n",
    "            time = \"00\" + str(halfb)\n",
    "    else:\n",
    "        if halfa < 10:\n",
    "            if halfb < 10:\n",
    "                time = \"0\" + str(halfa) + \"0\" + str(halfb)\n",
    "            else:\n",
    "                time = \"0\" + str(halfa) + str(halfb)\n",
    "\n",
    "        elif halfb < 10:\n",
    "            if halfa < 10:\n",
    "                time = \"0\" + str(halfa) + \"0\" + str(halfb)\n",
    "            else:\n",
    "                time = str(halfa) + \"0\" + str(halfb)\n",
    "        else:\n",
    "            time = str(halfa) + str(halfb)\n",
    "    tfail = random.randint(0, 1)\n",
    "    fail = str(tfail)\n",
    "    tanomaly = random.randint(0, 1)\n",
    "    anomaly = str(tanomaly)\n",
    "    file.write(impeve + \" \" + decibel + \" \" + fail + \" \" + time + \" \" + anomaly + \"\\n\")\n",
    "    random.seed()\n",
    "file.close()"
   ]
  },
  {
   "cell_type": "code",
   "execution_count": 103,
   "metadata": {
    "collapsed": false
   },
   "outputs": [
    {
     "name": "stdout",
     "output_type": "stream",
     "text": [
      "       DATE  PRCP  TMAX  TMIN   SNR\n",
      "0  20160101  0.00    67    42 -20.0\n",
      "1  20160102  0.00    66    44 -20.0\n",
      "2  20160103  0.00    64    43 -20.0\n",
      "3  20160104  0.00    71    54 -20.0\n",
      "4  20160105  0.88    61    54 -90.4\n",
      "5  20160106  0.61    60    48 -68.8\n"
     ]
    }
   ],
   "source": [
    "relevantWeatherData = pd.read_csv('888.csv');\n",
    "# relevantWeatherData = relevantWeatherData.drop(['WT01', 'WT02','WT03','WT04','WT05','WT06','WT08','WT09', 'AWND', 'TAVG', 'STATION', 'STATION_NAME'], axis = 1)\n",
    "relevantWeatherData = relevantWeatherData.drop(['SNOW','WT01', 'WT02','WT03','WT04','WT05','WT06','WT08','WT09', 'AWND', 'TAVG', 'STATION', 'STATION_NAME'], axis = 1)\n",
    "\n",
    "# now we have ['date','prcp', 'snow', 'tmax', and 'tmin' as our features]\n",
    "# but we want to specify LABC weather data, for this example\n",
    "# so we make a copy of the original dataframe\n",
    "# and splice it to only include the weather data from Los Angeles\n",
    "# these are rows 216 - 581 in our .csv file\n",
    "\n",
    "\n",
    "labcWeather = relevantWeatherData[:]\n",
    "\n",
    "# LABC WEATHER\n",
    "# labcWeather = labcWeather[214:580]\n",
    "\n",
    "# Long Beach\n",
    "labcWeather = labcWeather[3127:3494]\n",
    "\n",
    "# we reset the index of every data value so that it can merge with our pseudo-random dataset\n",
    "# 2016 was a leap year, so we have 366 entries\n",
    "\n",
    "labcWeather = labcWeather.reset_index(drop=True)\n",
    "\n",
    "# labcWeather['SNOW'] = labcWeather['SNOW'].replace([-9999.0], 0.0)\n",
    "\n",
    "\n",
    "#Add a new column SNR(Signal Noise Ratio) using our formula y = -80x - 20\n",
    "labcWeather['SNR'] = labcWeather['PRCP'].apply(lambda r: (r * -80) - 20)\n",
    "print(labcWeather[0:6])\n"
   ]
  },
  {
   "cell_type": "code",
   "execution_count": 104,
   "metadata": {
    "collapsed": false
   },
   "outputs": [
    {
     "name": "stdout",
     "output_type": "stream",
     "text": [
      "     ImpEvent  SigLvl  NearbyFail  Time  Anomaly\n",
      "0           0      61           0  1437        0\n",
      "50          0      65           1  1556        0\n",
      "100         1      60           1  1040        1\n",
      "150         0      64           1  2245        1\n",
      "200         0      63           0   417        0\n",
      "250         1      68           1    45        1\n",
      "300         0      64           0   607        1\n",
      "350         1      62           1  1701        1\n"
     ]
    }
   ],
   "source": [
    "equipmentData = pd.read_csv('test.txt', sep=\" \", header = None, names = ['ImpEvent', 'SigLvl', 'NearbyFail', 'Time', 'Anomaly'])\n",
    "\n",
    "print(equipmentData[::50])"
   ]
  },
  {
   "cell_type": "code",
   "execution_count": 105,
   "metadata": {
    "collapsed": false
   },
   "outputs": [
    {
     "data": {
      "text/html": [
       "<div>\n",
       "<table border=\"1\" class=\"dataframe\">\n",
       "  <thead>\n",
       "    <tr style=\"text-align: right;\">\n",
       "      <th></th>\n",
       "      <th>DATE</th>\n",
       "      <th>PRCP</th>\n",
       "      <th>TMAX</th>\n",
       "      <th>TMIN</th>\n",
       "      <th>SNR</th>\n",
       "      <th>ImpEvent</th>\n",
       "      <th>SigLvl</th>\n",
       "      <th>NearbyFail</th>\n",
       "      <th>Time</th>\n",
       "      <th>Anomaly</th>\n",
       "    </tr>\n",
       "  </thead>\n",
       "  <tbody>\n",
       "    <tr>\n",
       "      <th>0</th>\n",
       "      <td>20160101</td>\n",
       "      <td>0.00</td>\n",
       "      <td>67</td>\n",
       "      <td>42</td>\n",
       "      <td>-20.0</td>\n",
       "      <td>0</td>\n",
       "      <td>61</td>\n",
       "      <td>0</td>\n",
       "      <td>1437</td>\n",
       "      <td>0</td>\n",
       "    </tr>\n",
       "    <tr>\n",
       "      <th>91</th>\n",
       "      <td>20160401</td>\n",
       "      <td>0.00</td>\n",
       "      <td>70</td>\n",
       "      <td>53</td>\n",
       "      <td>-20.0</td>\n",
       "      <td>1</td>\n",
       "      <td>61</td>\n",
       "      <td>1</td>\n",
       "      <td>621</td>\n",
       "      <td>0</td>\n",
       "    </tr>\n",
       "    <tr>\n",
       "      <th>182</th>\n",
       "      <td>20160701</td>\n",
       "      <td>0.00</td>\n",
       "      <td>74</td>\n",
       "      <td>65</td>\n",
       "      <td>-20.0</td>\n",
       "      <td>0</td>\n",
       "      <td>65</td>\n",
       "      <td>1</td>\n",
       "      <td>3</td>\n",
       "      <td>0</td>\n",
       "    </tr>\n",
       "    <tr>\n",
       "      <th>273</th>\n",
       "      <td>20160930</td>\n",
       "      <td>0.00</td>\n",
       "      <td>90</td>\n",
       "      <td>68</td>\n",
       "      <td>-20.0</td>\n",
       "      <td>1</td>\n",
       "      <td>65</td>\n",
       "      <td>0</td>\n",
       "      <td>113</td>\n",
       "      <td>0</td>\n",
       "    </tr>\n",
       "    <tr>\n",
       "      <th>364</th>\n",
       "      <td>20161230</td>\n",
       "      <td>0.41</td>\n",
       "      <td>63</td>\n",
       "      <td>55</td>\n",
       "      <td>-52.8</td>\n",
       "      <td>1</td>\n",
       "      <td>63</td>\n",
       "      <td>1</td>\n",
       "      <td>436</td>\n",
       "      <td>1</td>\n",
       "    </tr>\n",
       "  </tbody>\n",
       "</table>\n",
       "</div>"
      ],
      "text/plain": [
       "         DATE  PRCP  TMAX  TMIN   SNR  ImpEvent  SigLvl  NearbyFail  Time  \\\n",
       "0    20160101  0.00    67    42 -20.0         0      61           0  1437   \n",
       "91   20160401  0.00    70    53 -20.0         1      61           1   621   \n",
       "182  20160701  0.00    74    65 -20.0         0      65           1     3   \n",
       "273  20160930  0.00    90    68 -20.0         1      65           0   113   \n",
       "364  20161230  0.41    63    55 -52.8         1      63           1   436   \n",
       "\n",
       "     Anomaly  \n",
       "0          0  \n",
       "91         0  \n",
       "182        0  \n",
       "273        0  \n",
       "364        1  "
      ]
     },
     "execution_count": 105,
     "metadata": {},
     "output_type": "execute_result"
    }
   ],
   "source": [
    "# x now contains the weather data in conjunction with the equipment data we created\n",
    "x = pd.merge(left=labcWeather, right=equipmentData,left_index = True, right_index = True)\n",
    "x[::91]"
   ]
  },
  {
   "cell_type": "code",
   "execution_count": 106,
   "metadata": {
    "collapsed": false
   },
   "outputs": [],
   "source": [
    "# we have to normalize the values. \n",
    "# in this case, we normalize only the values we're going to use. Rain and Signal Power\n",
    "prcpMax = x['PRCP'].max()\n",
    "sigMax = x['SigLvl'].max()\n",
    "snrMax = x['SNR'].max()\n",
    "snrMin = x['SNR'].min()\n",
    "tempMax = x['TMAX'].max()\n",
    "tempMinMax = x['TMIN'].max()\n",
    "x['NormPRCP'] = x['PRCP'].apply(lambda y: y / prcpMax)\n",
    "# remove NormSIG since this is random\n",
    "# x['NormSIG'] = x['SigLvl'].apply(lambda z: z / sigMax)\n",
    "x['NormTMAX'] = x['TMAX'].apply(lambda u: u / tempMax)\n",
    "x['NormTMIN'] = x['TMIN'].apply(lambda e: e / tempMinMax)\n",
    "x['NormSNR'] = x['SNR'].apply(lambda d: (d - snrMin)/ (snrMax - snrMin))\n",
    "\n",
    "# using the LOG base 10 values of NormPRCP\n",
    "# and NormSNR\n",
    "\n",
    "# log(x) not possible bc log(x) where x = 0 means log = -infinity\n",
    "\n",
    "# log(x + 1)\n",
    "# x['logPRCP'] = x['NormPRCP'].apply(lambda i: math.log10(i + 1))\n",
    "# x['logSNR'] = x['NormSNR'].apply(lambda p: math.log10(p + 1))\n",
    "\n",
    "# 1 + log(x + 1)\n",
    "# x['logPRCP'] = x['NormPRCP'].apply(lambda i:1 + math.log10(i + 1))\n",
    "# x['logSNR'] = x['NormSNR'].apply(lambda p:1 + math.log10(p + 1))\n",
    "\n",
    "\n",
    "# sqrt of x\n",
    "# x['logPRCP'] = x['NormPRCP'].apply(lambda i: math.sqrt(i))\n",
    "# x['logSNR'] = x['NormSNR'].apply(lambda p: math.sqrt(p))\n",
    "\n",
    "# cubed root of x\n",
    "# x['logPRCP'] = x['NormPRCP'].apply(lambda i: -(-i ** (1. / 3)))\n",
    "\n",
    "x['logPRCP'] = x['NormPRCP'].apply(lambda i: math.log10(i+0.1))\n",
    "x['logPRCP2'] = x['NormPRCP'].apply(lambda i: -(-i ** (1. / 3)))\n",
    "\n",
    "\n",
    "x['logSNR'] = x['NormSNR'].apply(lambda p: -(-p ** (1. / 3)))\n",
    "\n",
    "\n",
    "\n"
   ]
  },
  {
   "cell_type": "code",
   "execution_count": 108,
   "metadata": {
    "collapsed": false,
    "scrolled": true
   },
   "outputs": [
    {
     "data": {
      "text/html": [
       "<div>\n",
       "<table border=\"1\" class=\"dataframe\">\n",
       "  <thead>\n",
       "    <tr style=\"text-align: right;\">\n",
       "      <th></th>\n",
       "      <th>DATE</th>\n",
       "      <th>PRCP</th>\n",
       "      <th>TMAX</th>\n",
       "      <th>TMIN</th>\n",
       "      <th>SNR</th>\n",
       "      <th>ImpEvent</th>\n",
       "      <th>SigLvl</th>\n",
       "      <th>NearbyFail</th>\n",
       "      <th>Time</th>\n",
       "      <th>Anomaly</th>\n",
       "      <th>NormPRCP</th>\n",
       "      <th>NormTMAX</th>\n",
       "      <th>NormTMIN</th>\n",
       "      <th>NormSNR</th>\n",
       "      <th>logPRCP</th>\n",
       "      <th>logPRCP2</th>\n",
       "      <th>logSNR</th>\n",
       "    </tr>\n",
       "  </thead>\n",
       "  <tbody>\n",
       "    <tr>\n",
       "      <th>0</th>\n",
       "      <td>20160101</td>\n",
       "      <td>0.0</td>\n",
       "      <td>67</td>\n",
       "      <td>42</td>\n",
       "      <td>-20.0</td>\n",
       "      <td>0</td>\n",
       "      <td>61</td>\n",
       "      <td>0</td>\n",
       "      <td>1437</td>\n",
       "      <td>0</td>\n",
       "      <td>0.0</td>\n",
       "      <td>0.632075</td>\n",
       "      <td>0.591549</td>\n",
       "      <td>1.0</td>\n",
       "      <td>-1.0</td>\n",
       "      <td>0.0</td>\n",
       "      <td>1.0</td>\n",
       "    </tr>\n",
       "    <tr>\n",
       "      <th>90</th>\n",
       "      <td>20160331</td>\n",
       "      <td>0.0</td>\n",
       "      <td>73</td>\n",
       "      <td>48</td>\n",
       "      <td>-20.0</td>\n",
       "      <td>0</td>\n",
       "      <td>67</td>\n",
       "      <td>0</td>\n",
       "      <td>739</td>\n",
       "      <td>1</td>\n",
       "      <td>0.0</td>\n",
       "      <td>0.688679</td>\n",
       "      <td>0.676056</td>\n",
       "      <td>1.0</td>\n",
       "      <td>-1.0</td>\n",
       "      <td>0.0</td>\n",
       "      <td>1.0</td>\n",
       "    </tr>\n",
       "    <tr>\n",
       "      <th>180</th>\n",
       "      <td>20160629</td>\n",
       "      <td>0.0</td>\n",
       "      <td>85</td>\n",
       "      <td>67</td>\n",
       "      <td>-20.0</td>\n",
       "      <td>0</td>\n",
       "      <td>66</td>\n",
       "      <td>0</td>\n",
       "      <td>2352</td>\n",
       "      <td>0</td>\n",
       "      <td>0.0</td>\n",
       "      <td>0.801887</td>\n",
       "      <td>0.943662</td>\n",
       "      <td>1.0</td>\n",
       "      <td>-1.0</td>\n",
       "      <td>0.0</td>\n",
       "      <td>1.0</td>\n",
       "    </tr>\n",
       "    <tr>\n",
       "      <th>270</th>\n",
       "      <td>20160927</td>\n",
       "      <td>0.0</td>\n",
       "      <td>93</td>\n",
       "      <td>69</td>\n",
       "      <td>-20.0</td>\n",
       "      <td>0</td>\n",
       "      <td>63</td>\n",
       "      <td>0</td>\n",
       "      <td>2251</td>\n",
       "      <td>0</td>\n",
       "      <td>0.0</td>\n",
       "      <td>0.877358</td>\n",
       "      <td>0.971831</td>\n",
       "      <td>1.0</td>\n",
       "      <td>-1.0</td>\n",
       "      <td>0.0</td>\n",
       "      <td>1.0</td>\n",
       "    </tr>\n",
       "    <tr>\n",
       "      <th>360</th>\n",
       "      <td>20161226</td>\n",
       "      <td>0.0</td>\n",
       "      <td>63</td>\n",
       "      <td>42</td>\n",
       "      <td>-20.0</td>\n",
       "      <td>1</td>\n",
       "      <td>68</td>\n",
       "      <td>1</td>\n",
       "      <td>2100</td>\n",
       "      <td>1</td>\n",
       "      <td>0.0</td>\n",
       "      <td>0.594340</td>\n",
       "      <td>0.591549</td>\n",
       "      <td>1.0</td>\n",
       "      <td>-1.0</td>\n",
       "      <td>0.0</td>\n",
       "      <td>1.0</td>\n",
       "    </tr>\n",
       "  </tbody>\n",
       "</table>\n",
       "</div>"
      ],
      "text/plain": [
       "         DATE  PRCP  TMAX  TMIN   SNR  ImpEvent  SigLvl  NearbyFail  Time  \\\n",
       "0    20160101   0.0    67    42 -20.0         0      61           0  1437   \n",
       "90   20160331   0.0    73    48 -20.0         0      67           0   739   \n",
       "180  20160629   0.0    85    67 -20.0         0      66           0  2352   \n",
       "270  20160927   0.0    93    69 -20.0         0      63           0  2251   \n",
       "360  20161226   0.0    63    42 -20.0         1      68           1  2100   \n",
       "\n",
       "     Anomaly  NormPRCP  NormTMAX  NormTMIN  NormSNR  logPRCP  logPRCP2  logSNR  \n",
       "0          0       0.0  0.632075  0.591549      1.0     -1.0       0.0     1.0  \n",
       "90         1       0.0  0.688679  0.676056      1.0     -1.0       0.0     1.0  \n",
       "180        0       0.0  0.801887  0.943662      1.0     -1.0       0.0     1.0  \n",
       "270        0       0.0  0.877358  0.971831      1.0     -1.0       0.0     1.0  \n",
       "360        1       0.0  0.594340  0.591549      1.0     -1.0       0.0     1.0  "
      ]
     },
     "execution_count": 108,
     "metadata": {},
     "output_type": "execute_result"
    }
   ],
   "source": [
    "x[::90]"
   ]
  },
  {
   "cell_type": "code",
   "execution_count": 109,
   "metadata": {
    "collapsed": false
   },
   "outputs": [
    {
     "data": {
      "text/plain": [
       "<function matplotlib.pyplot.show>"
      ]
     },
     "execution_count": 109,
     "metadata": {},
     "output_type": "execute_result"
    },
    {
     "data": {
      "image/png": "[encoded data removed]",
      "text/plain": [
       "<matplotlib.figure.Figure at 0x17aacb34be0>"
      ]
     },
     "metadata": {},
     "output_type": "display_data"
    }
   ],
   "source": [
    "%matplotlib inline\n",
    "kMeans = KMeans(n_clusters=3)\n",
    "X = x[['logPRCP', 'logSNR']]\n",
    "kMeans.fit(X)\n",
    "\n",
    "# Assigned Labels after clustering: \n",
    "labels = kMeans.labels_\n",
    "\n",
    "# Centers of the clusters:\n",
    "centers = kMeans.cluster_centers_\n",
    "\n",
    "plt.figure\n",
    "\n",
    "for l, c in zip([0,1,2], ['red', 'blue', 'green']):\n",
    "    \n",
    "    current_members = (labels == l)\n",
    "    current_center = centers[l]\n",
    "    \n",
    "    plt.scatter(X.iloc[current_members,0], X.iloc[current_members,1], color = c, marker='x')\n",
    "    \n",
    "    plt.plot(current_center[0], current_center[1], 'o', markerfacecolor = c,\n",
    "            markeredgecolor = 'k', markersize=7)\n",
    "    \n",
    "plt.xlim([-0.3,1.3])\n",
    "\n",
    "    \n",
    "plt.xlabel('PRCP')\n",
    "plt.ylabel('SigLvl')\n",
    "plt.title('Kmeans Clustering for Signal Power and Precipitation for LABC')\n",
    "\n",
    "plt.show"
   ]
  },
  {
   "cell_type": "code",
   "execution_count": 110,
   "metadata": {
    "collapsed": false
   },
   "outputs": [
    {
     "name": "stdout",
     "output_type": "stream",
     "text": [
      "Standard Deviation:\n",
      "NormTMIN    0.101986\n",
      "logPRCP     0.158511\n",
      "logSNR      0.065885\n",
      "logPRCP2    0.172847\n",
      "dtype: float64\n",
      "\n",
      "Mean:\n",
      "NormTMIN    0.808875\n",
      "logPRCP    -0.959996\n",
      "logSNR      0.988846\n",
      "logPRCP2    0.050000\n",
      "dtype: float64\n",
      "\n",
      "\n",
      "Normal Distribution Values \n",
      "\n",
      "NormTMIN      5.637689284469533e-33\n",
      "logPRCP      5.107238997033816e-16\n",
      "logSNR      1.3924012034012642e-137\n",
      "logPRCP2      0.9261616394304648\n",
      "\n",
      "Probability: 3.7131158281243633e-185\n"
     ]
    }
   ],
   "source": [
    "# std and mean for NORMALIZED values\n",
    "# list which features to get std and mean\n",
    "# for example, it wouldnt make sense to get std and mean of date and time\n",
    "# stdMeanFeats = ['PRCP', 'TMAX','TMIN','SigLvl', 'NormPRCP', 'NormSIG', 'NormSNR']\n",
    "\n",
    "# we can only use normalized values for a normal distribution of data\n",
    "stdMeanFeats = ['NormTMIN', 'logPRCP', 'logSNR', 'logPRCP2']\n",
    "# stdMeanFeats = ['logPRCP', 'logSNR']\n",
    "print(\"Standard Deviation:\")\n",
    "print(x[stdMeanFeats].std())\n",
    "\n",
    "print(\"\\nMean:\")\n",
    "print(x[stdMeanFeats].mean())\n",
    "\n",
    "\n",
    "\n",
    "#NDvalues stores the normal distribution values of PRCP, then SNOW, then TMAX, etc.\n",
    "i = 0\n",
    "# NDvalues = [0, 0, 0, 0, 0, 0, 0]\n",
    "NDvalues = [0,0,0,0]\n",
    "for name in stdMeanFeats:\n",
    "    z = 0\n",
    "    e = 2.71\n",
    "    denominator = math.sqrt(2 * (math.pow(x[name].std(), 2)) * math.pi) \n",
    "    numeratorOfPower = math.pow((z - x[name].mean()), 2)\n",
    "    denominatorOfPower = 2 * math.pow(x[name].std(), 2)\n",
    "    power = numeratorOfPower / denominatorOfPower\n",
    "    power *= -1\n",
    "    finalbase = e / denominator\n",
    "    NDvalues[i] = math.pow(finalbase, (power))\n",
    "    i += 1\n",
    "\n",
    "i = 0\n",
    "print('\\n')\n",
    "print('Normal Distribution Values \\n')\n",
    "for value in NDvalues:\n",
    "    print(str(stdMeanFeats[i]) + '      ' + str(NDvalues[i]))\n",
    "    i += 1\n",
    "finalValue = 1\n",
    "for number in NDvalues:\n",
    "    finalValue *= number\n",
    "print()\n",
    "print('Probability: ' + str(finalValue))\n"
   ]
  },
  {
   "cell_type": "code",
   "execution_count": 111,
   "metadata": {
    "collapsed": false
   },
   "outputs": [
    {
     "data": {
      "text/plain": [
       "array([[<matplotlib.axes._subplots.AxesSubplot object at 0x0000017AAC7530F0>,\n",
       "        <matplotlib.axes._subplots.AxesSubplot object at 0x0000017AAC6C94A8>],\n",
       "       [<matplotlib.axes._subplots.AxesSubplot object at 0x0000017AAC8FF550>,\n",
       "        <matplotlib.axes._subplots.AxesSubplot object at 0x0000017AAE4282E8>]], dtype=object)"
      ]
     },
     "execution_count": 111,
     "metadata": {},
     "output_type": "execute_result"
    },
    {
     "data": {
      "image/png": "[encoded data removed]",
      "text/plain": [
       "<matplotlib.figure.Figure at 0x17aaca7ab70>"
      ]
     },
     "metadata": {},
     "output_type": "display_data"
    }
   ],
   "source": [
    "%matplotlib inline\n",
    "\n",
    "plt.figure\n",
    "\n",
    "x[stdMeanFeats].hist(bins=10)"
   ]
  },
  {
   "cell_type": "code",
   "execution_count": null,
   "metadata": {
    "collapsed": true
   },
   "outputs": [],
   "source": []
  },
  {
   "cell_type": "code",
   "execution_count": null,
   "metadata": {
    "collapsed": true
   },
   "outputs": [],
   "source": []
  }
 ],
 "metadata": {
  "anaconda-cloud": {},
  "kernelspec": {
   "display_name": "Python [Root]",
   "language": "python",
   "name": "Python [Root]"
  },
  "language_info": {
   "codemirror_mode": {
    "name": "ipython",
    "version": 3
   },
   "file_extension": ".py",
   "mimetype": "text/x-python",
   "name": "python",
   "nbconvert_exporter": "python",
   "pygments_lexer": "ipython3",
   "version": "3.5.2"
  }
 },
 "nbformat": 4,
 "nbformat_minor": 0
}
