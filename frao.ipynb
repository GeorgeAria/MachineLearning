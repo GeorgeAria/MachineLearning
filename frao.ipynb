{
 "cells": [
  {
   "cell_type": "code",
   "execution_count": 132,
   "metadata": {
    "collapsed": false
   },
   "outputs": [],
   "source": [
    "import numpy as np\n",
    "import pandas as pd\n",
    "import random\n",
    "import math\n",
    "from sklearn.neighbors import KNeighborsClassifier\n",
    "from sklearn.metrics import accuracy_score\n",
    "from sklearn.linear_model import LogisticRegression\n",
    "from sklearn.cluster import KMeans\n",
    "import matplotlib.pyplot as plt"
   ]
  },
  {
   "cell_type": "code",
   "execution_count": 133,
   "metadata": {
    "collapsed": false
   },
   "outputs": [],
   "source": [
    "seed = 1\n",
    "file = open(\"test.txt\", \"w\")\n",
    "# for a year of weather data\n",
    "for x in range(0, 365):\n",
    "    timpeve = random.randint(0, 1)\n",
    "    impeve = str(timpeve)\n",
    "    tdecibel = random.randint(60, 70)\n",
    "    decibel = str(tdecibel)\n",
    "    halfa = random.randint(0, 23)\n",
    "    halfb = random.randint(0, 59)\n",
    "    if halfa == 0:\n",
    "        if halfb < 10:\n",
    "            time = \"000\" + str(halfb)\n",
    "        else:\n",
    "            time = \"00\" + str(halfb)\n",
    "    else:\n",
    "        if halfa < 10:\n",
    "            if halfb < 10:\n",
    "                time = \"0\" + str(halfa) + \"0\" + str(halfb)\n",
    "            else:\n",
    "                time = \"0\" + str(halfa) + str(halfb)\n",
    "\n",
    "        elif halfb < 10:\n",
    "            if halfa < 10:\n",
    "                time = \"0\" + str(halfa) + \"0\" + str(halfb)\n",
    "            else:\n",
    "                time = str(halfa) + \"0\" + str(halfb)\n",
    "        else:\n",
    "            time = str(halfa) + str(halfb)\n",
    "    tfail = random.randint(0, 1)\n",
    "    fail = str(tfail)\n",
    "    tanomaly = random.randint(0, 1)\n",
    "    anomaly = str(tanomaly)\n",
    "    file.write(impeve + \" \" + decibel + \" \" + fail + \" \" + time + \" \" + anomaly + \"\\n\")\n",
    "    random.seed()\n",
    "file.close()"
   ]
  },
  {
   "cell_type": "code",
   "execution_count": 134,
   "metadata": {
    "collapsed": false
   },
   "outputs": [
    {
     "name": "stdout",
     "output_type": "stream",
     "text": [
      "['DATE', 'PRCP', 'TMAX', 'TMIN']\n",
      "         DATE  PRCP  TMAX  TMIN   SNR\n",
      "0    20160101  0.00    30    15 -20.0\n",
      "1    20160102  0.00    31    14 -20.0\n",
      "2    20160103  0.00    29    20 -20.0\n",
      "3    20160104  0.00    26    10 -20.0\n",
      "4    20160105  0.00    32    20 -20.0\n",
      "5    20160106  0.05    33    23 -24.0\n",
      "6    20160107  0.04    34    31 -23.2\n",
      "7    20160108  0.08    34    22 -26.4\n",
      "8    20160109  0.00    22    -6 -20.0\n",
      "9    20160110  0.00    -1   -10 -20.0\n",
      "10   20160111  0.02     6    -9 -21.6\n",
      "11   20160112  0.00     3    -7 -20.0\n",
      "12   20160113  0.01    23    -7 -20.8\n",
      "13   20160114  0.00    26    16 -20.0\n",
      "14   20160115  0.00    23    12 -20.0\n",
      "15   20160116  0.00    13    -9 -20.0\n",
      "16   20160117  0.00    -3   -14 -20.0\n",
      "17   20160118  0.00     2   -13 -20.0\n",
      "18   20160119  0.00     7    -7 -20.0\n",
      "19   20160120  0.02    22     7 -21.6\n",
      "20   20160121  0.00    24    20 -20.0\n",
      "21   20160122  0.00    25    17 -20.0\n",
      "22   20160123  0.00    23    18 -20.0\n",
      "23   20160124  0.01    30    23 -20.8\n",
      "24   20160125  0.05    30    27 -24.0\n",
      "25   20160126  0.01    28    20 -20.8\n",
      "26   20160127  0.00    40    15 -20.0\n",
      "27   20160128  0.00    37    19 -20.0\n",
      "28   20160129  0.01    34    18 -20.8\n",
      "29   20160130  0.01    43    30 -20.8\n",
      "..        ...   ...   ...   ...   ...\n",
      "336  20161202  0.00    33    30 -20.0\n",
      "337  20161203  0.00    32    29 -20.0\n",
      "338  20161204  0.13    38    31 -30.4\n",
      "339  20161205  0.00    40    27 -20.0\n",
      "340  20161206  0.00    38    18 -20.0\n",
      "341  20161207  0.00    21    16 -20.0\n",
      "342  20161208  0.00    24    16 -20.0\n",
      "343  20161209  0.00    20    10 -20.0\n",
      "344  20161210  0.16    14     4 -32.8\n",
      "345  20161211  0.33    21    13 -46.4\n",
      "346  20161212  0.00    14    -3 -20.0\n",
      "347  20161213  0.00    10    -7 -20.0\n",
      "348  20161214  0.00    10    -3 -20.0\n",
      "349  20161215  0.03     4    -9 -22.4\n",
      "350  20161216  0.35    12     4 -48.0\n",
      "351  20161217  0.07    12   -11 -25.6\n",
      "352  20161218  0.00     2   -20 -20.0\n",
      "353  20161219  0.00    26     2 -20.0\n",
      "354  20161220  0.00    37    24 -20.0\n",
      "355  20161221  0.00    41    23 -20.0\n",
      "356  20161222  0.00    37    20 -20.0\n",
      "357  20161223  0.10    38    33 -28.0\n",
      "358  20161224  0.00    36    33 -20.0\n",
      "359  20161225  0.97    37    32 -97.6\n",
      "360  20161226  0.00    43    18 -20.0\n",
      "361  20161227  0.00    25    17 -20.0\n",
      "362  20161228  0.00    36    20 -20.0\n",
      "363  20161229  0.00    33    22 -20.0\n",
      "364  20161230  0.00    32    18 -20.0\n",
      "365  20161231  0.00    31    20 -20.0\n",
      "\n",
      "[366 rows x 5 columns]\n"
     ]
    }
   ],
   "source": [
    "relevantWeatherData = pd.read_csv('888.csv');\n",
    "# relevantWeatherData = relevantWeatherData.drop(['WT01', 'WT02','WT03','WT04','WT05','WT06','WT08','WT09', 'AWND', 'TAVG', 'STATION', 'STATION_NAME'], axis = 1)\n",
    "relevantWeatherData = relevantWeatherData.drop(['SNOW','WT01', 'WT02','WT03','WT04','WT05','WT06','WT08','WT09', 'AWND', 'TAVG', 'STATION', 'STATION_NAME'], axis = 1)\n",
    "\n",
    "# now we have ['date','prcp', 'snow', 'tmax', and 'tmin' as our features]\n",
    "# but we want to specify LABC weather data, for this example\n",
    "# so we make a copy of the original dataframe\n",
    "# and splice it to only include the weather data from Los Angeles\n",
    "# these are rows 216 - 581 in our .csv file\n",
    "\n",
    "print(list(relevantWeatherData))\n",
    "\n",
    "labcWeather = relevantWeatherData[:]\n",
    "\n",
    "# LABC WEATHER\n",
    "# labcWeather = labcWeather[214:580]\n",
    "\n",
    "# MINNEAPOLIS\n",
    "labcWeather = labcWeather[1312:1678]\n",
    "\n",
    "# Berlin Municipal Airport (East Coast)\n",
    "# labcWeather = labcWeather[2761:3127]\n",
    "\n",
    "# Winchester (in Virginia; East Coast) (missing lots of values;)\n",
    "# labcWeather = labcWeather[1677:2043]\n",
    "\n",
    "# we reset the index of every data value so that it can merge with our pseudo-random dataset\n",
    "# 2016 was a leap year, so we have 366 entries\n",
    "\n",
    "labcWeather = labcWeather.reset_index(drop=True)\n",
    "\n",
    "# labcWeather['SNOW'] = labcWeather['SNOW'].replace([-9999.0], 0.0)\n",
    "labcWeather['PRCP'] = labcWeather['PRCP'].replace([-9999.0], 0.0)\n",
    "\n",
    "#Add a new column SNR(Signal Noise Ratio) using our formula y = -80x - 20\n",
    "labcWeather['SNR'] = labcWeather['PRCP'].apply(lambda r: (r * -80) - 20)\n",
    "print(labcWeather)"
   ]
  },
  {
   "cell_type": "code",
   "execution_count": 135,
   "metadata": {
    "collapsed": false
   },
   "outputs": [
    {
     "name": "stdout",
     "output_type": "stream",
     "text": [
      "     ImpEvent  SigLvl  NearbyFail  Time  Anomaly\n",
      "0           0      68           0   347        1\n",
      "50          1      68           0   411        1\n",
      "100         1      70           0  1737        0\n",
      "150         0      64           1  2034        1\n",
      "200         1      61           1  1359        1\n",
      "250         1      68           0  1722        1\n",
      "300         0      68           1    58        1\n",
      "350         1      61           1  1022        1\n"
     ]
    }
   ],
   "source": [
    "equipmentData = pd.read_csv('test.txt', sep=\" \", header = None, names = ['ImpEvent', 'SigLvl', 'NearbyFail', 'Time', 'Anomaly'])\n",
    "\n",
    "print(equipmentData[::50])"
   ]
  },
  {
   "cell_type": "code",
   "execution_count": 136,
   "metadata": {
    "collapsed": false
   },
   "outputs": [
    {
     "data": {
      "text/html": [
       "<div>\n",
       "<table border=\"1\" class=\"dataframe\">\n",
       "  <thead>\n",
       "    <tr style=\"text-align: right;\">\n",
       "      <th></th>\n",
       "      <th>DATE</th>\n",
       "      <th>PRCP</th>\n",
       "      <th>TMAX</th>\n",
       "      <th>TMIN</th>\n",
       "      <th>SNR</th>\n",
       "      <th>ImpEvent</th>\n",
       "      <th>SigLvl</th>\n",
       "      <th>NearbyFail</th>\n",
       "      <th>Time</th>\n",
       "      <th>Anomaly</th>\n",
       "    </tr>\n",
       "  </thead>\n",
       "  <tbody>\n",
       "    <tr>\n",
       "      <th>0</th>\n",
       "      <td>20160101</td>\n",
       "      <td>0.00</td>\n",
       "      <td>30</td>\n",
       "      <td>15</td>\n",
       "      <td>-20.0</td>\n",
       "      <td>0</td>\n",
       "      <td>68</td>\n",
       "      <td>0</td>\n",
       "      <td>347</td>\n",
       "      <td>1</td>\n",
       "    </tr>\n",
       "    <tr>\n",
       "      <th>91</th>\n",
       "      <td>20160401</td>\n",
       "      <td>0.02</td>\n",
       "      <td>41</td>\n",
       "      <td>32</td>\n",
       "      <td>-21.6</td>\n",
       "      <td>0</td>\n",
       "      <td>62</td>\n",
       "      <td>0</td>\n",
       "      <td>121</td>\n",
       "      <td>0</td>\n",
       "    </tr>\n",
       "    <tr>\n",
       "      <th>182</th>\n",
       "      <td>20160701</td>\n",
       "      <td>0.00</td>\n",
       "      <td>75</td>\n",
       "      <td>52</td>\n",
       "      <td>-20.0</td>\n",
       "      <td>1</td>\n",
       "      <td>69</td>\n",
       "      <td>1</td>\n",
       "      <td>116</td>\n",
       "      <td>0</td>\n",
       "    </tr>\n",
       "    <tr>\n",
       "      <th>273</th>\n",
       "      <td>20160930</td>\n",
       "      <td>0.00</td>\n",
       "      <td>71</td>\n",
       "      <td>50</td>\n",
       "      <td>-20.0</td>\n",
       "      <td>1</td>\n",
       "      <td>60</td>\n",
       "      <td>0</td>\n",
       "      <td>2122</td>\n",
       "      <td>0</td>\n",
       "    </tr>\n",
       "    <tr>\n",
       "      <th>364</th>\n",
       "      <td>20161230</td>\n",
       "      <td>0.00</td>\n",
       "      <td>32</td>\n",
       "      <td>18</td>\n",
       "      <td>-20.0</td>\n",
       "      <td>1</td>\n",
       "      <td>64</td>\n",
       "      <td>1</td>\n",
       "      <td>1336</td>\n",
       "      <td>0</td>\n",
       "    </tr>\n",
       "  </tbody>\n",
       "</table>\n",
       "</div>"
      ],
      "text/plain": [
       "         DATE  PRCP  TMAX  TMIN   SNR  ImpEvent  SigLvl  NearbyFail  Time  \\\n",
       "0    20160101  0.00    30    15 -20.0         0      68           0   347   \n",
       "91   20160401  0.02    41    32 -21.6         0      62           0   121   \n",
       "182  20160701  0.00    75    52 -20.0         1      69           1   116   \n",
       "273  20160930  0.00    71    50 -20.0         1      60           0  2122   \n",
       "364  20161230  0.00    32    18 -20.0         1      64           1  1336   \n",
       "\n",
       "     Anomaly  \n",
       "0          1  \n",
       "91         0  \n",
       "182        0  \n",
       "273        0  \n",
       "364        0  "
      ]
     },
     "execution_count": 136,
     "metadata": {},
     "output_type": "execute_result"
    }
   ],
   "source": [
    "# x now contains the weather data in conjunction with the equipment data we created\n",
    "x = pd.merge(left=labcWeather, right=equipmentData,left_index = True, right_index = True)\n",
    "x[::91]"
   ]
  },
  {
   "cell_type": "code",
   "execution_count": 162,
   "metadata": {
    "collapsed": false
   },
   "outputs": [],
   "source": [
    "# we have to normalize the values. \n",
    "# in this case, we normalize only the values we're going to use. Rain and Signal Power\n",
    "prcpMax = x['PRCP'].max()\n",
    "sigMax = x['SigLvl'].max()\n",
    "\n",
    "snrMax = x['SNR'].max()\n",
    "snrMin = x['SNR'].min()\n",
    "\n",
    "tempMax = x['TMAX'].max()\n",
    "\n",
    "tempMinMax = x['TMIN'].max()\n",
    "tempMinMin = x['TMIN'].min()\n",
    "x['NormPRCP'] = x['PRCP'].apply(lambda y: y / prcpMax)\n",
    "# remove NormSIG since this is random\n",
    "# x['NormSIG'] = x['SigLvl'].apply(lambda z: z / sigMax)\n",
    "x['NormTMAX'] = x['TMAX'].apply(lambda u: u / tempMax)\n",
    "# x['NormTMIN'] = x['TMIN'].apply(lambda e: e / tempMinMax)\n",
    "x['NormTMIN'] = x['TMIN'].apply(lambda e: (e - tempMinMin)/(tempMinMax - tempMinMin))\n",
    "\n",
    "x['NormSNR'] = x['SNR'].apply(lambda d: (d - snrMin)/ (snrMax - snrMin))\n",
    "\n",
    "# using the LOG base 10 values of NormPRCP\n",
    "# and NormSNR\n",
    "\n",
    "# log(x) not possible bc log(x) where x = 0 means log = -infinity\n",
    "\n",
    "# log(x + 1)\n",
    "# x['logPRCP'] = x['NormPRCP'].apply(lambda i: math.log10(i + 1))\n",
    "# x['logSNR'] = x['NormSNR'].apply(lambda p: math.log10(p + 1))\n",
    "\n",
    "# 1 + log(x + 1)\n",
    "# x['logPRCP'] = x['NormPRCP'].apply(lambda i:1 + math.log10(i + 1))\n",
    "# x['logSNR'] = x['NormSNR'].apply(lambda p:1 + math.log10(p + 1))\n",
    "\n",
    "# sqrt of x\n",
    "# x['logPRCP'] = x['NormPRCP'].apply(lambda i: math.sqrt(i))\n",
    "# x['logSNR'] = x['NormSNR'].apply(lambda p: math.sqrt(p))\n",
    "\n",
    "# cubed root of x\n",
    "x['logPRCP'] = x['NormPRCP'].apply(lambda i: (i ** (1 / 3)))\n",
    "x['logSNR'] = x['NormSNR'].apply(lambda p: (p ** (1 / 3)))\n",
    "\n",
    "# squared\n",
    "# x['logPRCP'] = x['NormPRCP'].apply(lambda i: (i ** 2))\n",
    "# x['logSNR'] = x['NormSNR'].apply(lambda p: (p ** 2))\n",
    "\n"
   ]
  },
  {
   "cell_type": "code",
   "execution_count": 163,
   "metadata": {
    "collapsed": false
   },
   "outputs": [
    {
     "data": {
      "text/plain": [
       "<function matplotlib.pyplot.show>"
      ]
     },
     "execution_count": 163,
     "metadata": {},
     "output_type": "execute_result"
    },
    {
     "data": {
      "image/png": "[encoded data removed]",
      "text/plain": [
       "<matplotlib.figure.Figure at 0x28d74fcfdd8>"
      ]
     },
     "metadata": {},
     "output_type": "display_data"
    }
   ],
   "source": [
    "%matplotlib inline\n",
    "kMeans = KMeans(n_clusters=3)\n",
    "X = x[['logPRCP', 'logSNR']]\n",
    "kMeans.fit(X)\n",
    "\n",
    "# Assigned Labels after clustering: \n",
    "labels = kMeans.labels_\n",
    "\n",
    "# Centers of the clusters:\n",
    "centers = kMeans.cluster_centers_\n",
    "\n",
    "plt.figure\n",
    "\n",
    "for l, c in zip([0,1,2], ['red', 'blue', 'green']):\n",
    "    \n",
    "    current_members = (labels == l)\n",
    "    current_center = centers[l]\n",
    "    \n",
    "    plt.scatter(X.iloc[current_members,0], X.iloc[current_members,1], color = c, marker='x')\n",
    "    \n",
    "    plt.plot(current_center[0], current_center[1], 'o', markerfacecolor = c,\n",
    "            markeredgecolor = 'k', markersize=7)\n",
    "    \n",
    "plt.xlim([-0.3,1.3])\n",
    "\n",
    "    \n",
    "plt.xlabel('PRCP')\n",
    "plt.ylabel('SigLvl')\n",
    "plt.title('Kmeans Clustering for Signal Power and Precipitation for LABC')\n",
    "\n",
    "plt.show"
   ]
  },
  {
   "cell_type": "code",
   "execution_count": 164,
   "metadata": {
    "collapsed": false
   },
   "outputs": [
    {
     "name": "stdout",
     "output_type": "stream",
     "text": [
      "Standard Deviation:\n",
      "NormTMIN    0.222863\n",
      "logPRCP     0.242393\n",
      "logSNR      0.073530\n",
      "dtype: float64\n",
      "\n",
      "Mean:\n",
      "NormTMIN    0.657301\n",
      "logPRCP     0.153768\n",
      "logSNR      0.978358\n",
      "dtype: float64\n",
      "\n",
      "\n",
      "Normal Distribution Values \n",
      "\n",
      "NormTMIN      0.0010400447750590772\n",
      "logPRCP      0.7401828667117477\n",
      "logSNR      4.5714765809843945e-104\n",
      "\n",
      "Probability: 3.519229293101188e-107\n"
     ]
    }
   ],
   "source": [
    "# std and mean for NORMALIZED values\n",
    "# list which features to get std and mean\n",
    "# for example, it wouldnt make sense to get std and mean of date and time\n",
    "# stdMeanFeats = ['PRCP', 'TMAX','TMIN','SigLvl', 'NormPRCP', 'NormSIG', 'NormSNR']\n",
    "\n",
    "# we can only use normalized values for a normal distribution of data\n",
    "stdMeanFeats = ['NormTMIN', 'logPRCP', 'logSNR']\n",
    "# stdMeanFeats = ['logPRCP', 'logSNR']\n",
    "print(\"Standard Deviation:\")\n",
    "print(x[stdMeanFeats].std())\n",
    "\n",
    "print(\"\\nMean:\")\n",
    "print(x[stdMeanFeats].mean())\n",
    "\n",
    "\n",
    "\n",
    "#NDvalues stores the normal distribution values of PRCP, then SNOW, then TMAX, etc.\n",
    "i = 0\n",
    "# NDvalues = [0, 0, 0, 0, 0, 0, 0]\n",
    "NDvalues = [0,0,0]\n",
    "for name in stdMeanFeats:\n",
    "    z = 0\n",
    "    e = 2.71\n",
    "    denominator = math.sqrt(2 * (math.pow(x[name].std(), 2)) * math.pi) \n",
    "    numeratorOfPower = math.pow((z - x[name].mean()), 2)\n",
    "    denominatorOfPower = 2 * math.pow(x[name].std(), 2)\n",
    "    power = numeratorOfPower / denominatorOfPower\n",
    "    power *= -1\n",
    "    finalbase = e / denominator\n",
    "    NDvalues[i] = math.pow(finalbase, (power))\n",
    "    i += 1\n",
    "\n",
    "i = 0\n",
    "print('\\n')\n",
    "print('Normal Distribution Values \\n')\n",
    "for value in NDvalues:\n",
    "    print(str(stdMeanFeats[i]) + '      ' + str(NDvalues[i]))\n",
    "    i += 1\n",
    "finalValue = 1\n",
    "for number in NDvalues:\n",
    "    finalValue *= number\n",
    "print()\n",
    "print('Probability: ' + str(finalValue))\n"
   ]
  },
  {
   "cell_type": "code",
   "execution_count": 165,
   "metadata": {
    "collapsed": false
   },
   "outputs": [
    {
     "data": {
      "text/plain": [
       "array([[<matplotlib.axes._subplots.AxesSubplot object at 0x0000028D76467128>,\n",
       "        <matplotlib.axes._subplots.AxesSubplot object at 0x0000028D765A34A8>],\n",
       "       [<matplotlib.axes._subplots.AxesSubplot object at 0x0000028D765ED5F8>,\n",
       "        <matplotlib.axes._subplots.AxesSubplot object at 0x0000028D7662B6D8>]], dtype=object)"
      ]
     },
     "execution_count": 165,
     "metadata": {},
     "output_type": "execute_result"
    },
    {
     "data": {
      "image/png": "[encoded data removed]",
      "text/plain": [
       "<matplotlib.figure.Figure at 0x28d764c85c0>"
      ]
     },
     "metadata": {},
     "output_type": "display_data"
    }
   ],
   "source": [
    "%matplotlib inline\n",
    "\n",
    "plt.figure\n",
    "\n",
    "x[stdMeanFeats].hist(bins=10)"
   ]
  },
  {
   "cell_type": "code",
   "execution_count": null,
   "metadata": {
    "collapsed": false
   },
   "outputs": [],
   "source": []
  },
  {
   "cell_type": "code",
   "execution_count": null,
   "metadata": {
    "collapsed": true
   },
   "outputs": [],
   "source": []
  }
 ],
 "metadata": {
  "anaconda-cloud": {},
  "kernelspec": {
   "display_name": "Python [Root]",
   "language": "python",
   "name": "Python [Root]"
  },
  "language_info": {
   "codemirror_mode": {
    "name": "ipython",
    "version": 3
   },
   "file_extension": ".py",
   "mimetype": "text/x-python",
   "name": "python",
   "nbconvert_exporter": "python",
   "pygments_lexer": "ipython3",
   "version": "3.5.2"
  }
 },
 "nbformat": 4,
 "nbformat_minor": 0
}
