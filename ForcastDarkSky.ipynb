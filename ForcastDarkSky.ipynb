{
 "cells": [
  {
   "cell_type": "code",
   "execution_count": 15,
   "metadata": {
    "collapsed": false
   },
   "outputs": [],
   "source": [
    "import numpy as np\n",
    "import pandas as pd\n",
    "import random\n",
    "import json\n",
    "import csv\n",
    "import math\n",
    "from sklearn.cross_validation import train_test_split\n",
    "from sklearn.neighbors import KNeighborsClassifier\n",
    "from sklearn.metrics import accuracy_score\n",
    "from sklearn.linear_model import LogisticRegression\n",
    "from sklearn.cluster import KMeans\n",
    "import matplotlib.pyplot as plt\n",
    "import urllib\n",
    "from forecastiopy import *"
   ]
  },
  {
   "cell_type": "code",
   "execution_count": 16,
   "metadata": {
    "collapsed": false
   },
   "outputs": [
    {
     "name": "stdout",
     "output_type": "stream",
     "text": [
      "1262446741\n",
      "1262533141\n"
     ]
    }
   ],
   "source": [
    "LA = '34.052235, -118.243683,'\n",
    "NY = '40.730610, -73.935242,'\n",
    "PortOr = '45.512794, -122.679565'\n",
    "API_KEY = '923677cb33071713bf086cd0fef8aac2'\n",
    "\n",
    "#Variable represents the UNIX time of January 1, 2010\n",
    "var2010 = 1262360341\n",
    "\n",
    "#Variable represents the UNIX time of January 1, 2016\n",
    "var2016 = 1451667071\n",
    "\n",
    "#Adding this to var2010 will advance the unix time by one day\n",
    "addADay = 86400\n",
    "\n",
    "file2 = open('weather.csv', 'wt')\n",
    "\n",
    "try:\n",
    "    writer = csv.writer(file2)\n",
    "    writer.writerow(('PRCP', 'TMAX', 'TMIN', 'SIGLVL'))\n",
    "    \n",
    "    \n",
    "    for i in range(2):\n",
    "        response = urllib.request.urlopen('https://api.darksky.net/forecast/923677cb33071713bf086cd0fef8aac2/' + PortOr + str(var2010))\n",
    "\n",
    "        #Converts HTTPResponse object to string\n",
    "        string = response.read().decode('utf-8')\n",
    "\n",
    "        #Creates initial json data\n",
    "        json_obj = json.loads(string)\n",
    "\n",
    "        #Format json data\n",
    "        #jsson = json.dumps(json_obj, indent = 4)\n",
    "        #print(jsson)\n",
    "\n",
    "\n",
    "        prcp = str(json_obj['daily']['data'][0]['precipIntensity'])\n",
    "        tmaxx = str(json_obj['daily']['data'][0]['apparentTemperatureMax'])\n",
    "        tminn = str(json_obj['daily']['data'][0]['apparentTemperatureMin'])\n",
    "        siglvl = random.randint(60, 70)\n",
    "        ssiglvl = str(siglvl)\n",
    "        \n",
    "        writer.writerow((prcp, tmaxx, tminn, ssiglvl))\n",
    "        var2010 += addADay\n",
    "        print(var2010)\n",
    "finally:\n",
    "    file2.close()\n",
    "\n",
    "#Write to json file\n",
    "#with open('data.json', 'w') as f:\n",
    "     #json.dump(jsson, f)"
   ]
  },
  {
   "cell_type": "code",
   "execution_count": 34,
   "metadata": {
    "collapsed": false
   },
   "outputs": [],
   "source": [
    "x = pd.read_csv('NY2016weather.csv');\n",
    "#Add a new column SNR(Signal Noise Ratio) using our formula y = -80x - 20\n",
    "x['SNR1'] = x['PRCP'].apply(lambda r: (r * -80) - 20)\n",
    "x['SNR2'] = x['TMAX'].apply(lambda x: (x * -0.3))\n",
    "x['SNR'] = x['SNR1'] + x['SNR2']\n",
    "x['PRCP2'] = x['PRCP'] + x['RAND1']\n",
    "x['NSNR'] = x['SNR']  \n",
    "#(x['RAND2'] / 100)\n",
    "#print(x)"
   ]
  },
  {
   "cell_type": "code",
   "execution_count": 35,
   "metadata": {
    "collapsed": false
   },
   "outputs": [],
   "source": [
    "prcpMax = x['PRCP2'].max()\n",
    "sigMax = x['SIGLVL'].max()\n",
    "\n",
    "snrMax = x['NSNR'].max()\n",
    "snrMin = x['NSNR'].min()\n",
    "\n",
    "tempMax = x['TMAX'].max()\n",
    "\n",
    "tempMinMax = x['TMIN'].max()\n",
    "tempMinMin = x['TMIN'].min()\n",
    "\n",
    "x['NormPRCP'] = x['PRCP2'].apply(lambda y: y / prcpMax)\n",
    "\n",
    "x['NormTMAX'] = x['TMAX'].apply(lambda u: u / tempMax)\n",
    "\n",
    "x['NormTMIN'] = x['TMIN'].apply(lambda e: (e - tempMinMin)/(tempMinMax - tempMinMin))\n",
    "\n",
    "x['NormSNR'] = x['NSNR'].apply(lambda d: (d - snrMin)/ (snrMax - snrMin))\n",
    "\n",
    "x['logPRCP'] = x['PRCP'].apply(lambda i: math.log10(((i + 0.01) ** (1 / 3)) + 2 ))\n",
    "#x['logSNR'] = x['NormSNR'].apply(lambda p: math.log10((p ** (1 / 2)) + 10))\n",
    "\n",
    "#x['logPRCP'] = x['NormPRCP'].apply(lambda i: math.log2(i + 2))\n",
    "#x['logSNR'] = x['NormSNR'].apply(lambda p: math.log2(p + 2))\n",
    "\n",
    "#x['logPRCP'] = x['NormPRCP'].apply(lambda i: (i ** 2))\n",
    "x['logSNR'] = x['NormSNR'].apply(lambda p: ((p + 0.01) ** 3) )\n",
    "\n",
    "\n",
    "#print(x)"
   ]
  },
  {
   "cell_type": "code",
   "execution_count": 36,
   "metadata": {
    "collapsed": false
   },
   "outputs": [
    {
     "data": {
      "text/plain": [
       "<function matplotlib.pyplot.show>"
      ]
     },
     "execution_count": 36,
     "metadata": {},
     "output_type": "execute_result"
    },
    {
     "data": {
      "image/png": "[encoded data removed]",
      "text/plain": [
       "<matplotlib.figure.Figure at 0xc2ab048>"
      ]
     },
     "metadata": {},
     "output_type": "display_data"
    }
   ],
   "source": [
    "%matplotlib inline\n",
    "kMeans = KMeans(n_clusters=4)\n",
    "X = x[['NormPRCP', 'NormSNR']]\n",
    "kMeans.fit(X)\n",
    "\n",
    "# Assigned Labels after clustering: \n",
    "labels = kMeans.labels_\n",
    "\n",
    "# Centers of the clusters:\n",
    "centers = kMeans.cluster_centers_\n",
    "\n",
    "plt.figure\n",
    "\n",
    "for l, c in zip([0,1,2,3], ['red', 'blue', 'green', 'black']):\n",
    "    \n",
    "    current_members = (labels == l)\n",
    "    current_center = centers[l]\n",
    "    \n",
    "    plt.scatter(X.iloc[current_members,0], X.iloc[current_members,1], color = c, marker='x')\n",
    "    \n",
    "    plt.plot(current_center[0], current_center[1], 'o', markerfacecolor = c,\n",
    "            markeredgecolor = 'k', markersize=7)\n",
    "    \n",
    "plt.xlim([-0.1,1.5])\n",
    "\n",
    "    \n",
    "plt.xlabel('PRCP')\n",
    "plt.ylabel('SigLvl')\n",
    "plt.title('Kmeans Clustering for Signal Power and Precipitation for LABC in 2010')\n",
    "\n",
    "plt.show"
   ]
  },
  {
   "cell_type": "code",
   "execution_count": 20,
   "metadata": {
    "collapsed": false
   },
   "outputs": [
    {
     "name": "stdout",
     "output_type": "stream",
     "text": [
      "Standard Deviation:\n",
      "NormTMIN    0.193582\n",
      "logPRCP     0.007331\n",
      "logSNR      0.192844\n",
      "NormTMAX    0.192248\n",
      "dtype: float64\n",
      "\n",
      "Mean:\n",
      "NormTMIN    0.629635\n",
      "logPRCP     0.348662\n",
      "logSNR      0.163755\n",
      "NormTMAX    0.593391\n",
      "dtype: float64\n",
      "\n",
      "\n",
      "Normal Distribution Values \n",
      "\n",
      "NormTMIN      4.0106662486048414e-170\n",
      "logPRCP      4.010666248584519e-170\n",
      "logSNR      4.0106662485993006e-170\n",
      "NormTMAX      4.0106662486183355e-170\n",
      "\n",
      "Probability: 0.0\n"
     ]
    }
   ],
   "source": [
    "stdMeanFeats = ['NormTMIN', 'logPRCP', 'logSNR', 'NormTMAX']\n",
    "# stdMeanFeats = ['logPRCP', 'logSNR']\n",
    "print(\"Standard Deviation:\")\n",
    "print(x[stdMeanFeats].std())\n",
    "\n",
    "print(\"\\nMean:\")\n",
    "print(x[stdMeanFeats].mean())\n",
    "\n",
    "\n",
    "x['logSNR'] = x['logSNR'].apply(lambda p: ((p - x['logSNR'].mean())/ (x['logSNR'].std())))\n",
    "x['logPRCP'] = x['logPRCP'].apply(lambda p: ((p - x['logPRCP'].mean())/ (x['logPRCP'].std())))\n",
    "x['NormTMIN'] = x['NormTMIN'].apply(lambda p: ((p - x['NormTMIN'].mean())/ (x['NormTMIN'].std())))\n",
    "x['NormTMAX'] = x['NormTMAX'].apply(lambda p: ((p - x['NormTMAX'].mean())/ (x['NormTMAX'].std())))\n",
    "\n",
    "#NDvalues stores the normal distribution values of PRCP, then SNOW, then TMAX, etc.\n",
    "i = 0\n",
    "# NDvalues = [0, 0, 0, 0, 0, 0, 0]\n",
    "NDvalues = [0,0,0,0]\n",
    "for name in stdMeanFeats:\n",
    "    z = 100\n",
    "    e = 2.71\n",
    "    denominator = math.sqrt(2 * (math.pow(x[name].std(), 2)) * math.pi) \n",
    "    numeratorOfPower = math.pow((z - x[name].mean()), 2)\n",
    "    denominatorOfPower = 2 * math.pow(x[name].std(), 2)\n",
    "    power = numeratorOfPower / denominatorOfPower\n",
    "    power *= -1\n",
    "    finalbase = e / denominator\n",
    "    NDvalues[i] = math.pow(finalbase, (power))\n",
    "    i += 1\n",
    "\n",
    "i = 0\n",
    "print('\\n')\n",
    "print('Normal Distribution Values \\n')\n",
    "for value in NDvalues:\n",
    "    print(str(stdMeanFeats[i]) + '      ' + str(NDvalues[i]))\n",
    "    i += 1\n",
    "finalValue = 1\n",
    "for number in NDvalues:\n",
    "    finalValue *= number\n",
    "print()\n",
    "print('Probability: ' + str(finalValue))"
   ]
  },
  {
   "cell_type": "code",
   "execution_count": 10,
   "metadata": {
    "collapsed": false
   },
   "outputs": [
    {
     "data": {
      "text/plain": [
       "array([[<matplotlib.axes._subplots.AxesSubplot object at 0x000000000ACC52B0>,\n",
       "        <matplotlib.axes._subplots.AxesSubplot object at 0x000000000B3F2400>],\n",
       "       [<matplotlib.axes._subplots.AxesSubplot object at 0x000000000B43ADD8>,\n",
       "        <matplotlib.axes._subplots.AxesSubplot object at 0x000000000ACCEA90>]], dtype=object)"
      ]
     },
     "execution_count": 10,
     "metadata": {},
     "output_type": "execute_result"
    },
    {
     "data": {
      "image/png": "[encoded data removed]",
      "text/plain": [
       "<matplotlib.figure.Figure at 0xaabe860>"
      ]
     },
     "metadata": {},
     "output_type": "display_data"
    }
   ],
   "source": [
    "%matplotlib inline\n",
    "\n",
    "plt.figure\n",
    "\n",
    "x[stdMeanFeats].hist(bins=10)"
   ]
  },
  {
   "cell_type": "code",
   "execution_count": null,
   "metadata": {
    "collapsed": true
   },
   "outputs": [],
   "source": []
  },
  {
   "cell_type": "code",
   "execution_count": null,
   "metadata": {
    "collapsed": true
   },
   "outputs": [],
   "source": []
  },
  {
   "cell_type": "code",
   "execution_count": null,
   "metadata": {
    "collapsed": true
   },
   "outputs": [],
   "source": []
  },
  {
   "cell_type": "code",
   "execution_count": null,
   "metadata": {
    "collapsed": true
   },
   "outputs": [],
   "source": []
  },
  {
   "cell_type": "code",
   "execution_count": null,
   "metadata": {
    "collapsed": true
   },
   "outputs": [],
   "source": []
  }
 ],
 "metadata": {
  "anaconda-cloud": {},
  "kernelspec": {
   "display_name": "Python [Root]",
   "language": "python",
   "name": "Python [Root]"
  },
  "language_info": {
   "codemirror_mode": {
    "name": "ipython",
    "version": 3
   },
   "file_extension": ".py",
   "mimetype": "text/x-python",
   "name": "python",
   "nbconvert_exporter": "python",
   "pygments_lexer": "ipython3",
   "version": "3.5.2"
  }
 },
 "nbformat": 4,
 "nbformat_minor": 0
}
